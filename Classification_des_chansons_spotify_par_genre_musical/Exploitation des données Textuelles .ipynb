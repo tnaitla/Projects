{
 "cells": [
  {
   "cell_type": "code",
   "execution_count": 1,
   "id": "generic-bennett",
   "metadata": {},
   "outputs": [],
   "source": [
    "import pandas as pd \n",
    "import numpy as np \n"
   ]
  },
  {
   "cell_type": "code",
   "execution_count": 4,
   "id": "adjacent-producer",
   "metadata": {},
   "outputs": [],
   "source": [
    "df = pd.read_csv(\"genres_v2.csv\",low_memory=False)"
   ]
  },
  {
   "cell_type": "code",
   "execution_count": 5,
   "id": "veterinary-explorer",
   "metadata": {},
   "outputs": [
    {
     "data": {
      "text/plain": [
       "(42297, 22)"
      ]
     },
     "execution_count": 5,
     "metadata": {},
     "output_type": "execute_result"
    }
   ],
   "source": [
    "df.shape"
   ]
  },
  {
   "cell_type": "code",
   "execution_count": 6,
   "id": "married-tongue",
   "metadata": {},
   "outputs": [
    {
     "data": {
      "text/html": [
       "<div>\n",
       "<style scoped>\n",
       "    .dataframe tbody tr th:only-of-type {\n",
       "        vertical-align: middle;\n",
       "    }\n",
       "\n",
       "    .dataframe tbody tr th {\n",
       "        vertical-align: top;\n",
       "    }\n",
       "\n",
       "    .dataframe thead th {\n",
       "        text-align: right;\n",
       "    }\n",
       "</style>\n",
       "<table border=\"1\" class=\"dataframe\">\n",
       "  <thead>\n",
       "    <tr style=\"text-align: right;\">\n",
       "      <th></th>\n",
       "      <th>danceability</th>\n",
       "      <th>energy</th>\n",
       "      <th>key</th>\n",
       "      <th>loudness</th>\n",
       "      <th>mode</th>\n",
       "      <th>speechiness</th>\n",
       "      <th>acousticness</th>\n",
       "      <th>instrumentalness</th>\n",
       "      <th>liveness</th>\n",
       "      <th>valence</th>\n",
       "      <th>...</th>\n",
       "      <th>id</th>\n",
       "      <th>uri</th>\n",
       "      <th>track_href</th>\n",
       "      <th>analysis_url</th>\n",
       "      <th>duration_ms</th>\n",
       "      <th>time_signature</th>\n",
       "      <th>genre</th>\n",
       "      <th>song_name</th>\n",
       "      <th>Unnamed: 0</th>\n",
       "      <th>title</th>\n",
       "    </tr>\n",
       "  </thead>\n",
       "  <tbody>\n",
       "    <tr>\n",
       "      <th>0</th>\n",
       "      <td>0.831</td>\n",
       "      <td>0.814</td>\n",
       "      <td>2</td>\n",
       "      <td>-7.364</td>\n",
       "      <td>1</td>\n",
       "      <td>0.4200</td>\n",
       "      <td>0.0598</td>\n",
       "      <td>0.013400</td>\n",
       "      <td>0.0556</td>\n",
       "      <td>0.3890</td>\n",
       "      <td>...</td>\n",
       "      <td>2Vc6NJ9PW9gD9q343XFRKx</td>\n",
       "      <td>spotify:track:2Vc6NJ9PW9gD9q343XFRKx</td>\n",
       "      <td>https://api.spotify.com/v1/tracks/2Vc6NJ9PW9gD...</td>\n",
       "      <td>https://api.spotify.com/v1/audio-analysis/2Vc6...</td>\n",
       "      <td>124539</td>\n",
       "      <td>4</td>\n",
       "      <td>Dark Trap</td>\n",
       "      <td>Mercury: Retrograde</td>\n",
       "      <td>NaN</td>\n",
       "      <td>NaN</td>\n",
       "    </tr>\n",
       "    <tr>\n",
       "      <th>1</th>\n",
       "      <td>0.719</td>\n",
       "      <td>0.493</td>\n",
       "      <td>8</td>\n",
       "      <td>-7.230</td>\n",
       "      <td>1</td>\n",
       "      <td>0.0794</td>\n",
       "      <td>0.4010</td>\n",
       "      <td>0.000000</td>\n",
       "      <td>0.1180</td>\n",
       "      <td>0.1240</td>\n",
       "      <td>...</td>\n",
       "      <td>7pgJBLVz5VmnL7uGHmRj6p</td>\n",
       "      <td>spotify:track:7pgJBLVz5VmnL7uGHmRj6p</td>\n",
       "      <td>https://api.spotify.com/v1/tracks/7pgJBLVz5Vmn...</td>\n",
       "      <td>https://api.spotify.com/v1/audio-analysis/7pgJ...</td>\n",
       "      <td>224427</td>\n",
       "      <td>4</td>\n",
       "      <td>Dark Trap</td>\n",
       "      <td>Pathology</td>\n",
       "      <td>NaN</td>\n",
       "      <td>NaN</td>\n",
       "    </tr>\n",
       "    <tr>\n",
       "      <th>2</th>\n",
       "      <td>0.850</td>\n",
       "      <td>0.893</td>\n",
       "      <td>5</td>\n",
       "      <td>-4.783</td>\n",
       "      <td>1</td>\n",
       "      <td>0.0623</td>\n",
       "      <td>0.0138</td>\n",
       "      <td>0.000004</td>\n",
       "      <td>0.3720</td>\n",
       "      <td>0.0391</td>\n",
       "      <td>...</td>\n",
       "      <td>0vSWgAlfpye0WCGeNmuNhy</td>\n",
       "      <td>spotify:track:0vSWgAlfpye0WCGeNmuNhy</td>\n",
       "      <td>https://api.spotify.com/v1/tracks/0vSWgAlfpye0...</td>\n",
       "      <td>https://api.spotify.com/v1/audio-analysis/0vSW...</td>\n",
       "      <td>98821</td>\n",
       "      <td>4</td>\n",
       "      <td>Dark Trap</td>\n",
       "      <td>Symbiote</td>\n",
       "      <td>NaN</td>\n",
       "      <td>NaN</td>\n",
       "    </tr>\n",
       "    <tr>\n",
       "      <th>3</th>\n",
       "      <td>0.476</td>\n",
       "      <td>0.781</td>\n",
       "      <td>0</td>\n",
       "      <td>-4.710</td>\n",
       "      <td>1</td>\n",
       "      <td>0.1030</td>\n",
       "      <td>0.0237</td>\n",
       "      <td>0.000000</td>\n",
       "      <td>0.1140</td>\n",
       "      <td>0.1750</td>\n",
       "      <td>...</td>\n",
       "      <td>0VSXnJqQkwuH2ei1nOQ1nu</td>\n",
       "      <td>spotify:track:0VSXnJqQkwuH2ei1nOQ1nu</td>\n",
       "      <td>https://api.spotify.com/v1/tracks/0VSXnJqQkwuH...</td>\n",
       "      <td>https://api.spotify.com/v1/audio-analysis/0VSX...</td>\n",
       "      <td>123661</td>\n",
       "      <td>3</td>\n",
       "      <td>Dark Trap</td>\n",
       "      <td>ProductOfDrugs (Prod. The Virus and Antidote)</td>\n",
       "      <td>NaN</td>\n",
       "      <td>NaN</td>\n",
       "    </tr>\n",
       "    <tr>\n",
       "      <th>4</th>\n",
       "      <td>0.798</td>\n",
       "      <td>0.624</td>\n",
       "      <td>2</td>\n",
       "      <td>-7.668</td>\n",
       "      <td>1</td>\n",
       "      <td>0.2930</td>\n",
       "      <td>0.2170</td>\n",
       "      <td>0.000000</td>\n",
       "      <td>0.1660</td>\n",
       "      <td>0.5910</td>\n",
       "      <td>...</td>\n",
       "      <td>4jCeguq9rMTlbMmPHuO7S3</td>\n",
       "      <td>spotify:track:4jCeguq9rMTlbMmPHuO7S3</td>\n",
       "      <td>https://api.spotify.com/v1/tracks/4jCeguq9rMTl...</td>\n",
       "      <td>https://api.spotify.com/v1/audio-analysis/4jCe...</td>\n",
       "      <td>123298</td>\n",
       "      <td>4</td>\n",
       "      <td>Dark Trap</td>\n",
       "      <td>Venom</td>\n",
       "      <td>NaN</td>\n",
       "      <td>NaN</td>\n",
       "    </tr>\n",
       "  </tbody>\n",
       "</table>\n",
       "<p>5 rows × 22 columns</p>\n",
       "</div>"
      ],
      "text/plain": [
       "   danceability  energy  key  loudness  mode  speechiness  acousticness  \\\n",
       "0         0.831   0.814    2    -7.364     1       0.4200        0.0598   \n",
       "1         0.719   0.493    8    -7.230     1       0.0794        0.4010   \n",
       "2         0.850   0.893    5    -4.783     1       0.0623        0.0138   \n",
       "3         0.476   0.781    0    -4.710     1       0.1030        0.0237   \n",
       "4         0.798   0.624    2    -7.668     1       0.2930        0.2170   \n",
       "\n",
       "   instrumentalness  liveness  valence  ...                      id  \\\n",
       "0          0.013400    0.0556   0.3890  ...  2Vc6NJ9PW9gD9q343XFRKx   \n",
       "1          0.000000    0.1180   0.1240  ...  7pgJBLVz5VmnL7uGHmRj6p   \n",
       "2          0.000004    0.3720   0.0391  ...  0vSWgAlfpye0WCGeNmuNhy   \n",
       "3          0.000000    0.1140   0.1750  ...  0VSXnJqQkwuH2ei1nOQ1nu   \n",
       "4          0.000000    0.1660   0.5910  ...  4jCeguq9rMTlbMmPHuO7S3   \n",
       "\n",
       "                                    uri  \\\n",
       "0  spotify:track:2Vc6NJ9PW9gD9q343XFRKx   \n",
       "1  spotify:track:7pgJBLVz5VmnL7uGHmRj6p   \n",
       "2  spotify:track:0vSWgAlfpye0WCGeNmuNhy   \n",
       "3  spotify:track:0VSXnJqQkwuH2ei1nOQ1nu   \n",
       "4  spotify:track:4jCeguq9rMTlbMmPHuO7S3   \n",
       "\n",
       "                                          track_href  \\\n",
       "0  https://api.spotify.com/v1/tracks/2Vc6NJ9PW9gD...   \n",
       "1  https://api.spotify.com/v1/tracks/7pgJBLVz5Vmn...   \n",
       "2  https://api.spotify.com/v1/tracks/0vSWgAlfpye0...   \n",
       "3  https://api.spotify.com/v1/tracks/0VSXnJqQkwuH...   \n",
       "4  https://api.spotify.com/v1/tracks/4jCeguq9rMTl...   \n",
       "\n",
       "                                        analysis_url duration_ms  \\\n",
       "0  https://api.spotify.com/v1/audio-analysis/2Vc6...      124539   \n",
       "1  https://api.spotify.com/v1/audio-analysis/7pgJ...      224427   \n",
       "2  https://api.spotify.com/v1/audio-analysis/0vSW...       98821   \n",
       "3  https://api.spotify.com/v1/audio-analysis/0VSX...      123661   \n",
       "4  https://api.spotify.com/v1/audio-analysis/4jCe...      123298   \n",
       "\n",
       "  time_signature      genre                                      song_name  \\\n",
       "0              4  Dark Trap                            Mercury: Retrograde   \n",
       "1              4  Dark Trap                                      Pathology   \n",
       "2              4  Dark Trap                                       Symbiote   \n",
       "3              3  Dark Trap  ProductOfDrugs (Prod. The Virus and Antidote)   \n",
       "4              4  Dark Trap                                          Venom   \n",
       "\n",
       "  Unnamed: 0 title  \n",
       "0        NaN   NaN  \n",
       "1        NaN   NaN  \n",
       "2        NaN   NaN  \n",
       "3        NaN   NaN  \n",
       "4        NaN   NaN  \n",
       "\n",
       "[5 rows x 22 columns]"
      ]
     },
     "execution_count": 6,
     "metadata": {},
     "output_type": "execute_result"
    }
   ],
   "source": [
    "df.head()"
   ]
  },
  {
   "cell_type": "markdown",
   "id": "wired-perth",
   "metadata": {},
   "source": [
    "***Creation du Corpus***"
   ]
  },
  {
   "cell_type": "code",
   "execution_count": 14,
   "id": "amateur-fortune",
   "metadata": {},
   "outputs": [],
   "source": [
    "song_name = df[\"song_name\"]\n",
    "song_name_genre = df[\"genre\"]\n",
    "corpus_song_name = []\n",
    "information_track = []\n",
    "genre =  np.unique(song_name_genre)\n",
    "def filter_carc_spec (s) : \n",
    "    s =str(s)\n",
    "    s = s.replace(\"(\" , \"\")\n",
    "    s =s.replace(\")\" , \"\")\n",
    "    s =s.replace(\"+\" , \"\")\n",
    "    s = s.replace(\".\" , \"\") \n",
    "    s =s.replace(\"'\" , \"\")\n",
    "    return s "
   ]
  },
  {
   "cell_type": "code",
   "execution_count": 15,
   "id": "confidential-pollution",
   "metadata": {},
   "outputs": [
    {
     "name": "stdout",
     "output_type": "stream",
     "text": [
      "42296\n",
      "21511\n"
     ]
    }
   ],
   "source": [
    "n = 0\n",
    "for i in range (0, len(song_name)) : \n",
    "    try : \n",
    "        s = (song_name_genre[i] + \" : \" +  filter_carc_spec (song_name [i]) + \".\") \n",
    "        if ' nan.' in s :\n",
    "            #print(s)\n",
    "            continue \n",
    "        corpus_song_name.append(s)\n",
    "        information_track .append(filter_carc_spec (song_name [i]) )\n",
    "        n = n + 1\n",
    "    except : \n",
    "        print(s) \n",
    "        continue\n",
    "print(i)\n",
    "print(n)"
   ]
  },
  {
   "cell_type": "code",
   "execution_count": 16,
   "id": "norwegian-diagnosis",
   "metadata": {},
   "outputs": [],
   "source": [
    "title = df[\"title\"]\n",
    "song_name_genre = df[\"genre\"]\n",
    "corpus_title_name = []"
   ]
  },
  {
   "cell_type": "code",
   "execution_count": 17,
   "id": "ceramic-buying",
   "metadata": {},
   "outputs": [
    {
     "name": "stdout",
     "output_type": "stream",
     "text": [
      "42296\n",
      "20786\n"
     ]
    }
   ],
   "source": [
    "n = 0 \n",
    "for i in range (0, len(title)) : \n",
    "    if i < 21511 : \n",
    "        continue \n",
    "    try : \n",
    "        s = (song_name_genre[i] + \" : \" +  filter_carc_spec (title [i]) + \".\")\n",
    "\n",
    "        corpus_title_name.append(s)\n",
    "        information_track.append(filter_carc_spec (title [i]) )\n",
    "        n = n + 1 \n",
    "    except : \n",
    "        print(s)\n",
    "        continue \n",
    "print(i)      \n",
    "print(n)"
   ]
  },
  {
   "cell_type": "code",
   "execution_count": 22,
   "id": "surgical-binding",
   "metadata": {},
   "outputs": [
    {
     "name": "stdout",
     "output_type": "stream",
     "text": [
      "42297\n",
      "42297\n"
     ]
    }
   ],
   "source": [
    "corpus = []\n",
    "corpus = corpus_song_name + corpus_title_name\n",
    "print(len(corpus))\n",
    "print(len(information_track))"
   ]
  },
  {
   "cell_type": "code",
   "execution_count": 23,
   "id": "looking-montana",
   "metadata": {},
   "outputs": [
    {
     "name": "stderr",
     "output_type": "stream",
     "text": [
      "[nltk_data] Downloading package stopwords to\n",
      "[nltk_data]     /home_local/admin/nltk_data...\n",
      "[nltk_data]   Package stopwords is already up-to-date!\n"
     ]
    },
    {
     "name": "stdout",
     "output_type": "stream",
     "text": [
      "42297\n"
     ]
    },
    {
     "data": {
      "text/plain": [
       "42297"
      ]
     },
     "execution_count": 23,
     "metadata": {},
     "output_type": "execute_result"
    }
   ],
   "source": [
    "#Import Libraries\n",
    "import pandas as pd\n",
    "import numpy as np\n",
    "import string\n",
    "import nltk\n",
    "from nltk.tokenize import RegexpTokenizer\n",
    "from nltk.corpus import stopwords\n",
    "nltk.download('stopwords')\n",
    "review_data_list = list()\n",
    "\n",
    "\n",
    "for line in corpus:\n",
    "\n",
    "#create word tokens as well as remove puntuation in one go\n",
    "    rem_tok_punc = RegexpTokenizer(r'\\w+')\n",
    "    \n",
    "    tokens = rem_tok_punc.tokenize(line)\n",
    "\n",
    "    #convert the words to lower case\n",
    "    words = [w.lower() for w in tokens]\n",
    "\n",
    "    #Append words in the review_data_list list.\n",
    "    review_data_list.append(words)\n",
    "print(len(review_data_list))\n",
    "\n",
    "info_track  = list()\n",
    "\n",
    "for line in information_track:\n",
    "\n",
    "#create word tokens as well as remove puntuation in one go\n",
    "    rem_tok_punc = RegexpTokenizer(r'\\w+')\n",
    "    \n",
    "    tokens = rem_tok_punc.tokenize(line)\n",
    "\n",
    "    #convert the words to lower case\n",
    "    words = [w.lower() for w in tokens]\n",
    "\n",
    "    \n",
    "    #Append words in the review_data_list list.\n",
    "    info_track .append(words)\n",
    "len(info_track )"
   ]
  },
  {
   "cell_type": "markdown",
   "id": "stretch-fleece",
   "metadata": {},
   "source": [
    "***Creation du Word2Vec***\n"
   ]
  },
  {
   "cell_type": "code",
   "execution_count": 28,
   "id": "economic-suspect",
   "metadata": {},
   "outputs": [],
   "source": [
    "#Train a Word2Vec model using Gensim\n",
    "import gensim\n",
    "#train word2vec model\n",
    "model = gensim.models.Word2Vec(sentences = review_data_list, vector_size=100, window=10, min_count=1, workers=4)\n"
   ]
  },
  {
   "cell_type": "code",
   "execution_count": 34,
   "id": "imperial-bedroom",
   "metadata": {},
   "outputs": [],
   "source": [
    "word_vectors = model.wv"
   ]
  },
  {
   "cell_type": "markdown",
   "id": "reverse-monitoring",
   "metadata": {},
   "source": [
    "***Calcul des scores de similarités*** "
   ]
  },
  {
   "cell_type": "code",
   "execution_count": 30,
   "id": "rising-context",
   "metadata": {},
   "outputs": [],
   "source": [
    "col = ['Dark Trap', 'Emo', 'Hiphop', 'Pop', 'Rap', 'RnB', 'Trap Metal',\n",
    "       'Underground Rap', 'dnb', 'hardstyle', 'psytrance', 'techhouse',\n",
    "       'techno', 'trance', 'trap']"
   ]
  },
  {
   "cell_type": "code",
   "execution_count": 31,
   "id": "needed-wealth",
   "metadata": {},
   "outputs": [],
   "source": [
    "df_temp = pd.DataFrame(columns= col)"
   ]
  },
  {
   "cell_type": "code",
   "execution_count": 35,
   "id": "extreme-cylinder",
   "metadata": {},
   "outputs": [],
   "source": [
    "for info in info_track : \n",
    "    info_line = \"\"\n",
    "    for i in info:\n",
    "        info_line = info_line + \" \"+i \n",
    "    sentence_in = info_line.lower().split()\n",
    "    temp_vect =[]\n",
    "    for gen in genre : \n",
    "        sentence_to = gen.lower().split()\n",
    "        similarity = word_vectors.n_similarity(sentence_to, sentence_in)\n",
    "        temp_vect.append(similarity)\n",
    "    df_new= pd.DataFrame([temp_vect] , columns=col)\n",
    "    df_temp = pd.concat([df_temp, df_new], ignore_index=True)"
   ]
  },
  {
   "cell_type": "markdown",
   "id": "ruled-laugh",
   "metadata": {},
   "source": [
    "***Creation du data set Final***"
   ]
  },
  {
   "cell_type": "code",
   "execution_count": 37,
   "id": "collectible-conspiracy",
   "metadata": {},
   "outputs": [],
   "source": [
    "for gen in df_temp.columns : \n",
    "    df[gen] = df_temp[gen]"
   ]
  },
  {
   "cell_type": "code",
   "execution_count": 38,
   "id": "sacred-moment",
   "metadata": {},
   "outputs": [],
   "source": [
    "df.to_csv(\"Data_for_TrainModel.csv\", index = False)"
   ]
  },
  {
   "cell_type": "code",
   "execution_count": null,
   "id": "labeled-prophet",
   "metadata": {},
   "outputs": [],
   "source": []
  }
 ],
 "metadata": {
  "kernelspec": {
   "display_name": "Python 3",
   "language": "python",
   "name": "python3"
  },
  "language_info": {
   "codemirror_mode": {
    "name": "ipython",
    "version": 3
   },
   "file_extension": ".py",
   "mimetype": "text/x-python",
   "name": "python",
   "nbconvert_exporter": "python",
   "pygments_lexer": "ipython3",
   "version": "3.9.2"
  },
  "toc": {
   "base_numbering": 1,
   "nav_menu": {},
   "number_sections": true,
   "sideBar": true,
   "skip_h1_title": false,
   "title_cell": "Table of Contents",
   "title_sidebar": "Contents",
   "toc_cell": false,
   "toc_position": {},
   "toc_section_display": true,
   "toc_window_display": false
  },
  "varInspector": {
   "cols": {
    "lenName": 16,
    "lenType": 16,
    "lenVar": 40
   },
   "kernels_config": {
    "python": {
     "delete_cmd_postfix": "",
     "delete_cmd_prefix": "del ",
     "library": "var_list.py",
     "varRefreshCmd": "print(var_dic_list())"
    },
    "r": {
     "delete_cmd_postfix": ") ",
     "delete_cmd_prefix": "rm(",
     "library": "var_list.r",
     "varRefreshCmd": "cat(var_dic_list()) "
    }
   },
   "types_to_exclude": [
    "module",
    "function",
    "builtin_function_or_method",
    "instance",
    "_Feature"
   ],
   "window_display": false
  }
 },
 "nbformat": 4,
 "nbformat_minor": 5
}
